{
 "cells": [
  {
   "cell_type": "markdown",
   "metadata": {},
   "source": [
    "# Graduated Non-Convexity (GNC) for robust spatial perceptions\n",
    "\n",
    "The next big thing following RANSAC"
   ]
  },
  {
   "cell_type": "code",
   "execution_count": null,
   "metadata": {},
   "outputs": [],
   "source": [
    "import matplotlib.pyplot as plt\n",
    "import numpy as np\n",
    "\n",
    "from numpy.random import default_rng\n",
    "rng = default_rng()\n",
    "\n",
    "mean = [0, 0]\n",
    "cov = [[1,0.99], [0.99, 1]]  # diagonal covariance\n",
    "\n",
    "vals = rng.multivariate_normal(mean,cov,100)\n",
    "\n",
    "mean2 = [0, 0]\n",
    "cov2 = [[2,0], [0, 2]]  # diagonal covariance\n",
    "\n",
    "vals2 = rng.multivariate_normal(mean2,cov2,100)\n",
    "\n",
    "vals3 = np.vstack((vals,vals2))\n",
    "\n",
    "model = np.polyfit(vals3[:,0],vals3[:,1],1)   \n",
    "predict = np.poly1d(model)\n",
    "\n",
    "x_lin_reg = range(-4, 4)\n",
    "y_lin_reg = predict(x_lin_reg)\n",
    "\n",
    "plt.plot(x_lin_reg, y_lin_reg, c = 'r')\n",
    "\n",
    "plt.scatter(vals[:,0],vals[:,1])\n",
    "plt.scatter(vals2[:,0],vals2[:,1])\n",
    "\n",
    "plt.axis('equal')\n",
    "plt.show()"
   ]
  }
 ],
 "metadata": {
  "interpreter": {
   "hash": "c5bdf11056d3a04a1a9571cdaa4bdb55870e733a25e7859e82d420ffe0dcca84"
  },
  "kernelspec": {
   "display_name": "Python 3.10.0 64-bit ('.venv': venv)",
   "name": "python3"
  },
  "language_info": {
   "codemirror_mode": {
    "name": "ipython",
    "version": 3
   },
   "file_extension": ".py",
   "mimetype": "text/x-python",
   "name": "python",
   "nbconvert_exporter": "python",
   "pygments_lexer": "ipython3",
   "version": "3.10.0"
  },
  "orig_nbformat": 4
 },
 "nbformat": 4,
 "nbformat_minor": 2
}
